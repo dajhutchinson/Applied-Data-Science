{
 "cells": [
  {
   "cell_type": "code",
   "execution_count": 1,
   "metadata": {},
   "outputs": [],
   "source": [
    "from datetime import datetime\n",
    "import numpy as np\n",
    "import pandas as pd\n",
    "pd.set_option('display.max_columns', 500)"
   ]
  },
  {
   "cell_type": "markdown",
   "metadata": {},
   "source": [
    "# Anonymisation\n",
    "\n",
    "Here I anonymise the synethic data from our model.\n",
    "\n",
    "\n",
    "## TOC\n",
    " * [Preliminary](#Preliminary)\n",
    " * [Transaction Details](#Transaction-Details)\n",
    "   * [Amount](#Amount)\n",
    "   * [Time](#Time)\n",
    " * [Customer Details](#Customer-Details)\n",
    "   * [Credit Card Number](#Credit-Card-Number)\n",
    "   * [Person Details](#Person-Details)\n",
    "   * [Other](#Other)\n",
    " * [Merchant Details](#Merchant-Details)\n",
    " * [Location Details](#Location-Details)"
   ]
  },
  {
   "cell_type": "code",
   "execution_count": 2,
   "metadata": {},
   "outputs": [
    {
     "name": "stderr",
     "output_type": "stream",
     "text": [
      "c:\\users\\domah\\appdata\\local\\programs\\python\\python37\\lib\\site-packages\\numpy\\lib\\arraysetops.py:580: FutureWarning: elementwise comparison failed; returning scalar instead, but in the future will perform elementwise comparison\n",
      "  mask |= (ar1 == a)\n"
     ]
    }
   ],
   "source": [
    "# Load the data\n",
    "training_data=pd.read_csv(\"data/synthetic_train.csv\",index_col=0)\n",
    "test_data=pd.read_csv(\"data/synthetic_train.csv\",index_col=0)\n",
    "full_data=pd.concat([training_data, test_data])\n",
    "\n",
    "sample_df=full_data.sample(n=10)"
   ]
  },
  {
   "cell_type": "code",
   "execution_count": 3,
   "metadata": {},
   "outputs": [
    {
     "name": "stdout",
     "output_type": "stream",
     "text": [
      "(2593350, 22)\n"
     ]
    },
    {
     "data": {
      "text/plain": [
       "trans_date_trans_time     object\n",
       "cc_num                     int64\n",
       "merchant                  object\n",
       "category                  object\n",
       "amt                      float64\n",
       "first                     object\n",
       "last                      object\n",
       "gender                    object\n",
       "street                    object\n",
       "city                      object\n",
       "state                     object\n",
       "zip                        int64\n",
       "lat                      float64\n",
       "long                     float64\n",
       "city_pop                   int64\n",
       "job                       object\n",
       "dob                       object\n",
       "trans_num                 object\n",
       "unix_time                  int64\n",
       "merch_lat                float64\n",
       "merch_long               float64\n",
       "is_fraud                   int64\n",
       "dtype: object"
      ]
     },
     "execution_count": 3,
     "metadata": {},
     "output_type": "execute_result"
    }
   ],
   "source": [
    "print(full_data.shape)\n",
    "full_data.dtypes"
   ]
  },
  {
   "cell_type": "code",
   "execution_count": 4,
   "metadata": {},
   "outputs": [
    {
     "data": {
      "text/html": [
       "<div>\n",
       "<style scoped>\n",
       "    .dataframe tbody tr th:only-of-type {\n",
       "        vertical-align: middle;\n",
       "    }\n",
       "\n",
       "    .dataframe tbody tr th {\n",
       "        vertical-align: top;\n",
       "    }\n",
       "\n",
       "    .dataframe thead th {\n",
       "        text-align: right;\n",
       "    }\n",
       "</style>\n",
       "<table border=\"1\" class=\"dataframe\">\n",
       "  <thead>\n",
       "    <tr style=\"text-align: right;\">\n",
       "      <th></th>\n",
       "      <th>trans_date_trans_time</th>\n",
       "      <th>cc_num</th>\n",
       "      <th>merchant</th>\n",
       "      <th>category</th>\n",
       "      <th>amt</th>\n",
       "      <th>first</th>\n",
       "      <th>last</th>\n",
       "      <th>gender</th>\n",
       "      <th>street</th>\n",
       "      <th>city</th>\n",
       "      <th>state</th>\n",
       "      <th>zip</th>\n",
       "      <th>lat</th>\n",
       "      <th>long</th>\n",
       "      <th>city_pop</th>\n",
       "      <th>job</th>\n",
       "      <th>dob</th>\n",
       "      <th>trans_num</th>\n",
       "      <th>unix_time</th>\n",
       "      <th>merch_lat</th>\n",
       "      <th>merch_long</th>\n",
       "      <th>is_fraud</th>\n",
       "    </tr>\n",
       "  </thead>\n",
       "  <tbody>\n",
       "    <tr>\n",
       "      <th>721095</th>\n",
       "      <td>2019-11-03 23:26:30</td>\n",
       "      <td>346273234529002</td>\n",
       "      <td>fraud_Hickle Group</td>\n",
       "      <td>shopping_pos</td>\n",
       "      <td>175.82</td>\n",
       "      <td>Donna</td>\n",
       "      <td>Moreno</td>\n",
       "      <td>F</td>\n",
       "      <td>32301 Albert River Suite 364</td>\n",
       "      <td>Ronceverte</td>\n",
       "      <td>WV</td>\n",
       "      <td>24970</td>\n",
       "      <td>37.7418</td>\n",
       "      <td>-80.4626</td>\n",
       "      <td>4575</td>\n",
       "      <td>Statistician</td>\n",
       "      <td>1991-10-22</td>\n",
       "      <td>17e359569e95c253b6583eb716bd8d5d</td>\n",
       "      <td>1351985190</td>\n",
       "      <td>38.212003</td>\n",
       "      <td>-81.246800</td>\n",
       "      <td>0</td>\n",
       "    </tr>\n",
       "    <tr>\n",
       "      <th>171532</th>\n",
       "      <td>2019-03-31 13:01:05</td>\n",
       "      <td>30118423745458</td>\n",
       "      <td>fraud_Abernathy and Sons</td>\n",
       "      <td>food_dining</td>\n",
       "      <td>29.87</td>\n",
       "      <td>Jared</td>\n",
       "      <td>Velazquez</td>\n",
       "      <td>M</td>\n",
       "      <td>01479 Murray Circle</td>\n",
       "      <td>Matawan</td>\n",
       "      <td>NJ</td>\n",
       "      <td>7747</td>\n",
       "      <td>40.4109</td>\n",
       "      <td>-74.2380</td>\n",
       "      <td>30770</td>\n",
       "      <td>Drilling engineer</td>\n",
       "      <td>1993-04-29</td>\n",
       "      <td>e25b340bc6022b1b6acc09e46a0e66bd</td>\n",
       "      <td>1333198865</td>\n",
       "      <td>40.947220</td>\n",
       "      <td>-73.509474</td>\n",
       "      <td>0</td>\n",
       "    </tr>\n",
       "    <tr>\n",
       "      <th>28936</th>\n",
       "      <td>2019-01-18 00:12:26</td>\n",
       "      <td>377113842678100</td>\n",
       "      <td>fraud_Brekke and Sons</td>\n",
       "      <td>gas_transport</td>\n",
       "      <td>76.66</td>\n",
       "      <td>Billy</td>\n",
       "      <td>Gallagher</td>\n",
       "      <td>M</td>\n",
       "      <td>673 Delgado Burg</td>\n",
       "      <td>Greenwich</td>\n",
       "      <td>NJ</td>\n",
       "      <td>8323</td>\n",
       "      <td>39.4055</td>\n",
       "      <td>-75.3209</td>\n",
       "      <td>804</td>\n",
       "      <td>Insurance risk surveyor</td>\n",
       "      <td>1965-03-25</td>\n",
       "      <td>213a7fb1f3c39ed78704878b4f495ae8</td>\n",
       "      <td>1326845546</td>\n",
       "      <td>39.468030</td>\n",
       "      <td>-75.732957</td>\n",
       "      <td>0</td>\n",
       "    </tr>\n",
       "    <tr>\n",
       "      <th>568509</th>\n",
       "      <td>2019-08-30 04:50:49</td>\n",
       "      <td>3525590521269779</td>\n",
       "      <td>fraud_Raynor, Feest and Miller</td>\n",
       "      <td>gas_transport</td>\n",
       "      <td>73.20</td>\n",
       "      <td>Scott</td>\n",
       "      <td>Fuller</td>\n",
       "      <td>M</td>\n",
       "      <td>861 Karen Common</td>\n",
       "      <td>Haw River</td>\n",
       "      <td>NC</td>\n",
       "      <td>27258</td>\n",
       "      <td>36.0424</td>\n",
       "      <td>-79.3242</td>\n",
       "      <td>6006</td>\n",
       "      <td>Paramedic</td>\n",
       "      <td>1984-07-20</td>\n",
       "      <td>58c2a806f45270cbef844e0d49e212fc</td>\n",
       "      <td>1346302249</td>\n",
       "      <td>35.640750</td>\n",
       "      <td>-78.622680</td>\n",
       "      <td>0</td>\n",
       "    </tr>\n",
       "    <tr>\n",
       "      <th>538936</th>\n",
       "      <td>2019-08-19 04:31:18</td>\n",
       "      <td>3538520143479972</td>\n",
       "      <td>fraud_Bashirian Group</td>\n",
       "      <td>shopping_net</td>\n",
       "      <td>2.16</td>\n",
       "      <td>Cassandra</td>\n",
       "      <td>Nunez</td>\n",
       "      <td>F</td>\n",
       "      <td>9572 Austin Forge Suite 612</td>\n",
       "      <td>Clay Center</td>\n",
       "      <td>OH</td>\n",
       "      <td>43408</td>\n",
       "      <td>41.5686</td>\n",
       "      <td>-83.3632</td>\n",
       "      <td>269</td>\n",
       "      <td>Insurance underwriter</td>\n",
       "      <td>1965-09-15</td>\n",
       "      <td>76c7f3cd2265d0daf41006104cf02136</td>\n",
       "      <td>1345350678</td>\n",
       "      <td>41.334376</td>\n",
       "      <td>-84.060964</td>\n",
       "      <td>0</td>\n",
       "    </tr>\n",
       "  </tbody>\n",
       "</table>\n",
       "</div>"
      ],
      "text/plain": [
       "       trans_date_trans_time            cc_num  \\\n",
       "721095   2019-11-03 23:26:30   346273234529002   \n",
       "171532   2019-03-31 13:01:05    30118423745458   \n",
       "28936    2019-01-18 00:12:26   377113842678100   \n",
       "568509   2019-08-30 04:50:49  3525590521269779   \n",
       "538936   2019-08-19 04:31:18  3538520143479972   \n",
       "\n",
       "                              merchant       category     amt      first  \\\n",
       "721095              fraud_Hickle Group   shopping_pos  175.82      Donna   \n",
       "171532        fraud_Abernathy and Sons    food_dining   29.87      Jared   \n",
       "28936            fraud_Brekke and Sons  gas_transport   76.66      Billy   \n",
       "568509  fraud_Raynor, Feest and Miller  gas_transport   73.20      Scott   \n",
       "538936           fraud_Bashirian Group   shopping_net    2.16  Cassandra   \n",
       "\n",
       "             last gender                        street         city state  \\\n",
       "721095     Moreno      F  32301 Albert River Suite 364   Ronceverte    WV   \n",
       "171532  Velazquez      M           01479 Murray Circle      Matawan    NJ   \n",
       "28936   Gallagher      M              673 Delgado Burg    Greenwich    NJ   \n",
       "568509     Fuller      M              861 Karen Common    Haw River    NC   \n",
       "538936      Nunez      F   9572 Austin Forge Suite 612  Clay Center    OH   \n",
       "\n",
       "          zip      lat     long  city_pop                      job  \\\n",
       "721095  24970  37.7418 -80.4626      4575             Statistician   \n",
       "171532   7747  40.4109 -74.2380     30770        Drilling engineer   \n",
       "28936    8323  39.4055 -75.3209       804  Insurance risk surveyor   \n",
       "568509  27258  36.0424 -79.3242      6006                Paramedic   \n",
       "538936  43408  41.5686 -83.3632       269    Insurance underwriter   \n",
       "\n",
       "               dob                         trans_num   unix_time  merch_lat  \\\n",
       "721095  1991-10-22  17e359569e95c253b6583eb716bd8d5d  1351985190  38.212003   \n",
       "171532  1993-04-29  e25b340bc6022b1b6acc09e46a0e66bd  1333198865  40.947220   \n",
       "28936   1965-03-25  213a7fb1f3c39ed78704878b4f495ae8  1326845546  39.468030   \n",
       "568509  1984-07-20  58c2a806f45270cbef844e0d49e212fc  1346302249  35.640750   \n",
       "538936  1965-09-15  76c7f3cd2265d0daf41006104cf02136  1345350678  41.334376   \n",
       "\n",
       "        merch_long  is_fraud  \n",
       "721095  -81.246800         0  \n",
       "171532  -73.509474         0  \n",
       "28936   -75.732957         0  \n",
       "568509  -78.622680         0  \n",
       "538936  -84.060964         0  "
      ]
     },
     "execution_count": 4,
     "metadata": {},
     "output_type": "execute_result"
    }
   ],
   "source": [
    "# Sample of the data\n",
    "sample_df.head()"
   ]
  },
  {
   "cell_type": "markdown",
   "metadata": {},
   "source": [
    "## Preliminary"
   ]
  },
  {
   "cell_type": "markdown",
   "metadata": {},
   "source": [
    "Convert `trans_date_trans_time` and `dob` into `datetime` objects."
   ]
  },
  {
   "cell_type": "code",
   "execution_count": 5,
   "metadata": {},
   "outputs": [],
   "source": [
    "full_data[\"trans_date_trans_time\"]=pd.to_datetime(full_data[\"trans_date_trans_time\"],format=\"%Y-%m-%d %H:%M:%S\")\n",
    "full_data[\"dob\"]=pd.to_datetime(full_data[\"dob\"],format=\"%Y-%m-%d\")\n",
    "\n",
    "sample_df[\"trans_date_trans_time\"]=pd.to_datetime(sample_df[\"trans_date_trans_time\"],format=\"%Y-%m-%d %H:%M:%S\")\n",
    "sample_df[\"dob\"]=pd.to_datetime(sample_df[\"dob\"],format=\"%Y-%m-%d\")"
   ]
  },
  {
   "cell_type": "markdown",
   "metadata": {},
   "source": [
    "**Cleaned Data**\n",
    "\n",
    "I define the dataframe `clean_df` which will hold all the prepared data"
   ]
  },
  {
   "cell_type": "code",
   "execution_count": 6,
   "metadata": {},
   "outputs": [],
   "source": [
    "clean_df=pd.DataFrame()\n",
    "clean_df[\"is_fraud\"]=sample_df[\"is_fraud\"]"
   ]
  },
  {
   "cell_type": "markdown",
   "metadata": {},
   "source": [
    "## Transcation Details\n",
    " * `trans_date_trans_time`\n",
    " * `amt`\n",
    " * `trans_num`\n",
    " * `unix_time`\n",
    " * `is_fraud`\n",
    " \n",
    "Leave `is_fraud` untouched as it is the feature we will be fitting the model to."
   ]
  },
  {
   "cell_type": "code",
   "execution_count": 7,
   "metadata": {},
   "outputs": [],
   "source": [
    "# !pip install forex-python"
   ]
  },
  {
   "cell_type": "code",
   "execution_count": 8,
   "metadata": {},
   "outputs": [],
   "source": [
    "import forex_python.converter as fx"
   ]
  },
  {
   "cell_type": "markdown",
   "metadata": {},
   "source": [
    "### Amount\n",
    "\n",
    "All `amt` values are in dollars, but the real data we have is from Europe so we need to account for the exchange rate. I implement the function `convert_currency` to perform this exchange and then create two columns `amount_USD` (a renaming of `amt`) and `amount_GBP` (value of `amt` in sterling)."
   ]
  },
  {
   "cell_type": "code",
   "execution_count": 9,
   "metadata": {},
   "outputs": [],
   "source": [
    "def convert_currency(amount:float,unix_time:int,cur_currency:str,tar_currency) -> float:\n",
    "    \"\"\"\n",
    "    Determine the value of an amount of one currency in another currency at a specified point in time\n",
    "    \n",
    "    PARAMS\n",
    "    amount (float) - amount of current currency\n",
    "    unix_time (int) - unix timestamp of exchange rate to use\n",
    "    cur_currency (str) - three character code for current currency\n",
    "    tar_currency (str) - three character code for target currency\n",
    "    \n",
    "    RETURNS\n",
    "    float - amount of target currency\n",
    "    \"\"\"\n",
    "    time=datetime.utcfromtimestamp(unix_time)\n",
    "    exchange_rate=fx.get_rate(cur_currency,tar_currency,time)\n",
    "    \n",
    "    return round(amount*exchange_rate,2)"
   ]
  },
  {
   "cell_type": "code",
   "execution_count": 10,
   "metadata": {},
   "outputs": [],
   "source": [
    "# Convert amount between currencies\n",
    "def prepare_amount(df,cur_label,cur_currency=\"USD\",tar_currency=\"GBP\") -> pd.Series:\n",
    "    tar_label=\"amount_{}\".format(tar_currency)\n",
    "    return df[[cur_label,\"unix_time\"]].apply(lambda x: convert_currency(x[cur_label],x[\"unix_time\"],cur_currency,tar_currency),axis=1)"
   ]
  },
  {
   "cell_type": "code",
   "execution_count": 11,
   "metadata": {},
   "outputs": [],
   "source": [
    "def quicker(df,cur_label,cur_currency=\"USD\",tar_currency=\"GBP\") -> pd.Series:\n",
    "    df_local=df.copy()\n",
    "    df_local[\"date\"]=pd.to_datetime(df[\"trans_date_trans_time\"].dt.date,format=\"%Y-%m-%d\")\n",
    "    \n",
    "    # determine the exchange rate for each day\n",
    "    exchange_rates=pd.DataFrame()\n",
    "    exchange_rates[\"date\"]=pd.to_datetime(df_local[\"date\"].unique(),format=\"%Y-%m-%d\")\n",
    "    exchange_rates[\"unix_time\"]=(exchange_rates[\"date\"].astype(\"int64\")/1000000000).astype(int)\n",
    "    exchange_rates[\"rate\"]=exchange_rates.apply(lambda x:convert_currency(1,x[\"unix_time\"],cur_currency,tar_currency),axis=1)\n",
    "    \n",
    "    # merge dataframes\n",
    "    df_local[\"date\"]=df_local[\"date\"].dt.date\n",
    "    exchange_rates[\"date\"]=exchange_rates[\"date\"].dt.date\n",
    "    df_merged=df_local[[\"date\",\"amt\"]].merge(exchange_rates[[\"date\",\"rate\"]],on=\"date\",how=\"left\")\n",
    "    \n",
    "    # calculated exchanged amounts\n",
    "    tar_label=\"amount_{}\".format(tar_currency)\n",
    "    df_merged[tar_label]=df_merged.apply(lambda x:x[\"amt\"]*x[\"rate\"],axis=1)\n",
    "    \n",
    "    return df_merged[tar_label]"
   ]
  },
  {
   "cell_type": "code",
   "execution_count": 12,
   "metadata": {
    "scrolled": false
   },
   "outputs": [],
   "source": [
    "clean_df[\"amount_USD\"]=sample_df[\"amt\"].copy()\n",
    "clean_df[\"amount_GBP\"]=quicker(full_data[[\"trans_date_trans_time\",\"amt\"]],\"amt\",\"USD\",\"GBP\")"
   ]
  },
  {
   "cell_type": "markdown",
   "metadata": {},
   "source": [
    "### Time\n",
    "\n",
    "In the real data set time is given in seconds since the first transaction. I implement the function `standardise_time` which calculates the number of seconds between mid-night on the day of the first transaction and each transaction.\n",
    "\n",
    "The full-time columns (`trans_date_trans_time` and `unix_time`) are still useful as you can use them to determine the year, month, day etc. of the transaction and thus may want to consider how to incorporate these into feature selection. "
   ]
  },
  {
   "cell_type": "code",
   "execution_count": 13,
   "metadata": {},
   "outputs": [],
   "source": [
    "def standardise_time(series) -> pd.Series:\n",
    "    min_time=series.min().to_pydatetime()\n",
    "    min_day=min_time.replace(second=0,minute=0,hour=0)\n",
    "    return ((series-min_day).dt.total_seconds()).astype(int)"
   ]
  },
  {
   "cell_type": "code",
   "execution_count": 14,
   "metadata": {},
   "outputs": [],
   "source": [
    "clean_df[\"unix_time\"]=sample_df[\"unix_time\"].copy()\n",
    "clean_df[\"seconds_from_start\"]=standardise_time(sample_df[\"trans_date_trans_time\"])"
   ]
  },
  {
   "cell_type": "code",
   "execution_count": 15,
   "metadata": {},
   "outputs": [
    {
     "data": {
      "text/html": [
       "<div>\n",
       "<style scoped>\n",
       "    .dataframe tbody tr th:only-of-type {\n",
       "        vertical-align: middle;\n",
       "    }\n",
       "\n",
       "    .dataframe tbody tr th {\n",
       "        vertical-align: top;\n",
       "    }\n",
       "\n",
       "    .dataframe thead th {\n",
       "        text-align: right;\n",
       "    }\n",
       "</style>\n",
       "<table border=\"1\" class=\"dataframe\">\n",
       "  <thead>\n",
       "    <tr style=\"text-align: right;\">\n",
       "      <th></th>\n",
       "      <th>is_fraud</th>\n",
       "      <th>amount_USD</th>\n",
       "      <th>amount_GBP</th>\n",
       "      <th>unix_time</th>\n",
       "      <th>seconds_from_start</th>\n",
       "    </tr>\n",
       "  </thead>\n",
       "  <tbody>\n",
       "    <tr>\n",
       "      <th>721095</th>\n",
       "      <td>0</td>\n",
       "      <td>175.82</td>\n",
       "      <td>135.3814</td>\n",
       "      <td>1351985190</td>\n",
       "      <td>26090790</td>\n",
       "    </tr>\n",
       "    <tr>\n",
       "      <th>171532</th>\n",
       "      <td>0</td>\n",
       "      <td>29.87</td>\n",
       "      <td>22.7012</td>\n",
       "      <td>1333198865</td>\n",
       "      <td>7304465</td>\n",
       "    </tr>\n",
       "    <tr>\n",
       "      <th>28936</th>\n",
       "      <td>0</td>\n",
       "      <td>76.66</td>\n",
       "      <td>59.0282</td>\n",
       "      <td>1326845546</td>\n",
       "      <td>1037546</td>\n",
       "    </tr>\n",
       "    <tr>\n",
       "      <th>568509</th>\n",
       "      <td>0</td>\n",
       "      <td>73.20</td>\n",
       "      <td>60.0240</td>\n",
       "      <td>1346302249</td>\n",
       "      <td>20407849</td>\n",
       "    </tr>\n",
       "    <tr>\n",
       "      <th>538936</th>\n",
       "      <td>0</td>\n",
       "      <td>2.16</td>\n",
       "      <td>1.7712</td>\n",
       "      <td>1345350678</td>\n",
       "      <td>19456278</td>\n",
       "    </tr>\n",
       "  </tbody>\n",
       "</table>\n",
       "</div>"
      ],
      "text/plain": [
       "        is_fraud  amount_USD  amount_GBP   unix_time  seconds_from_start\n",
       "721095         0      175.82    135.3814  1351985190            26090790\n",
       "171532         0       29.87     22.7012  1333198865             7304465\n",
       "28936          0       76.66     59.0282  1326845546             1037546\n",
       "568509         0       73.20     60.0240  1346302249            20407849\n",
       "538936         0        2.16      1.7712  1345350678            19456278"
      ]
     },
     "execution_count": 15,
     "metadata": {},
     "output_type": "execute_result"
    }
   ],
   "source": [
    "clean_df.head(5)"
   ]
  },
  {
   "cell_type": "markdown",
   "metadata": {},
   "source": [
    "## Customer Details\n",
    "\n",
    "**Account Details**\n",
    " * `cc_num`\n",
    " \n",
    "**Person Details**\n",
    " * `first`\n",
    " * `last`\n",
    " * `gender`\n",
    " * Address (`street`, `city`, `state`, `zip`, `lat`, `long`)\n",
    "  * *Owen is working on this as we want to maintain relationships between locations*. (See [below](#Location-Details))\n",
    " * `job`\n",
    " * `dob`\n",
    " \n",
    "**Other**\n",
    " * `city_pop`"
   ]
  },
  {
   "cell_type": "markdown",
   "metadata": {},
   "source": [
    "### Credit Card Number\n",
    "\n",
    "Anonymise credit card number"
   ]
  },
  {
   "cell_type": "code",
   "execution_count": 16,
   "metadata": {},
   "outputs": [],
   "source": [
    "def anonymise(series:pd.Series) -> pd.Series:\n",
    "    return series.astype(\"category\").cat.codes"
   ]
  },
  {
   "cell_type": "code",
   "execution_count": 17,
   "metadata": {},
   "outputs": [
    {
     "data": {
      "text/html": [
       "<div>\n",
       "<style scoped>\n",
       "    .dataframe tbody tr th:only-of-type {\n",
       "        vertical-align: middle;\n",
       "    }\n",
       "\n",
       "    .dataframe tbody tr th {\n",
       "        vertical-align: top;\n",
       "    }\n",
       "\n",
       "    .dataframe thead th {\n",
       "        text-align: right;\n",
       "    }\n",
       "</style>\n",
       "<table border=\"1\" class=\"dataframe\">\n",
       "  <thead>\n",
       "    <tr style=\"text-align: right;\">\n",
       "      <th></th>\n",
       "      <th>is_fraud</th>\n",
       "      <th>amount_USD</th>\n",
       "      <th>amount_GBP</th>\n",
       "      <th>unix_time</th>\n",
       "      <th>seconds_from_start</th>\n",
       "      <th>cc_id</th>\n",
       "    </tr>\n",
       "  </thead>\n",
       "  <tbody>\n",
       "    <tr>\n",
       "      <th>721095</th>\n",
       "      <td>0</td>\n",
       "      <td>175.82</td>\n",
       "      <td>135.3814</td>\n",
       "      <td>1351985190</td>\n",
       "      <td>26090790</td>\n",
       "      <td>3</td>\n",
       "    </tr>\n",
       "  </tbody>\n",
       "</table>\n",
       "</div>"
      ],
      "text/plain": [
       "        is_fraud  amount_USD  amount_GBP   unix_time  seconds_from_start  \\\n",
       "721095         0      175.82    135.3814  1351985190            26090790   \n",
       "\n",
       "        cc_id  \n",
       "721095      3  "
      ]
     },
     "execution_count": 17,
     "metadata": {},
     "output_type": "execute_result"
    }
   ],
   "source": [
    "clean_df[\"cc_id\"]=anonymise(sample_df[\"cc_num\"])\n",
    "clean_df.head(1)"
   ]
  },
  {
   "cell_type": "markdown",
   "metadata": {},
   "source": [
    "### Personal Details\n",
    "\n",
    "`first` and `last` contains the customers name, these need to be anonymised. I introduce the column `person_id` which contains a unique identifier for each person in the dataset (It is assumed each unique combination of `first`, `last`, `job` and `dob` is a unique person)."
   ]
  },
  {
   "cell_type": "code",
   "execution_count": 18,
   "metadata": {},
   "outputs": [],
   "source": [
    "clean_df[\"person_id\"]=anonymise(sample_df[\"first\"]+\"_\"+sample_df[\"last\"]+\"_\"+sample_df[\"job\"]+\"_\"+sample_df[\"dob\"].apply(lambda x: x.strftime('%Y-%m-%d')))"
   ]
  },
  {
   "cell_type": "markdown",
   "metadata": {},
   "source": [
    "Keeping `gender` seems reasonable as it may be useful in the model fit. May be worth further investigation into whether there are notable differences in fraud rates/patterns between the genders."
   ]
  },
  {
   "cell_type": "code",
   "execution_count": 19,
   "metadata": {},
   "outputs": [],
   "source": [
    "clean_df[\"gender_id\"]=anonymise(sample_df[\"gender\"])"
   ]
  },
  {
   "cell_type": "markdown",
   "metadata": {},
   "source": [
    "`job` could be useful for the model and does not necessarily need anonymising. I will leave it as is and likely try to group jobs during feature selection to reduce degrees of freedom."
   ]
  },
  {
   "cell_type": "code",
   "execution_count": 30,
   "metadata": {},
   "outputs": [],
   "source": [
    "clean_df[\"job_category\"]=sample_df[\"job\"]"
   ]
  },
  {
   "cell_type": "markdown",
   "metadata": {},
   "source": [
    "`dob` should be useful for the model, I am going to discretise this data into the age of the customer at the time of the transaction."
   ]
  },
  {
   "cell_type": "code",
   "execution_count": 21,
   "metadata": {},
   "outputs": [],
   "source": [
    "def dob_to_age(df) -> pd.Series:\n",
    "    return (df[\"trans_date_trans_time\"]-df[\"dob\"])//np.timedelta64(1,\"Y\")"
   ]
  },
  {
   "cell_type": "code",
   "execution_count": 22,
   "metadata": {},
   "outputs": [],
   "source": [
    "clean_df[\"age\"]=dob_to_age(sample_df[[\"dob\",\"trans_date_trans_time\"]])"
   ]
  },
  {
   "cell_type": "markdown",
   "metadata": {},
   "source": [
    "Intuitively it seems likely that `city_pop` may be useful in fitting the model, so we want to keep it. However, it could be used to identify the city the customer is from, due to the precise nature of this value, thus I round it up to the nearest 1,000.\n",
    "\n",
    "During feature selection, it is likely we would want to discretise/categorise `city_pop` values. This will introduce our prior knowledge and reduce the degrees of freedom which the model needs to consider."
   ]
  },
  {
   "cell_type": "code",
   "execution_count": 23,
   "metadata": {},
   "outputs": [],
   "source": [
    "clean_df[\"city_pop_round\"]=np.ceil(sample_df[\"city_pop\"]/1000).copy().astype(int)"
   ]
  },
  {
   "cell_type": "code",
   "execution_count": 31,
   "metadata": {},
   "outputs": [
    {
     "data": {
      "text/html": [
       "<div>\n",
       "<style scoped>\n",
       "    .dataframe tbody tr th:only-of-type {\n",
       "        vertical-align: middle;\n",
       "    }\n",
       "\n",
       "    .dataframe tbody tr th {\n",
       "        vertical-align: top;\n",
       "    }\n",
       "\n",
       "    .dataframe thead th {\n",
       "        text-align: right;\n",
       "    }\n",
       "</style>\n",
       "<table border=\"1\" class=\"dataframe\">\n",
       "  <thead>\n",
       "    <tr style=\"text-align: right;\">\n",
       "      <th></th>\n",
       "      <th>is_fraud</th>\n",
       "      <th>amount_USD</th>\n",
       "      <th>amount_GBP</th>\n",
       "      <th>unix_time</th>\n",
       "      <th>seconds_from_start</th>\n",
       "      <th>cc_id</th>\n",
       "      <th>person_id</th>\n",
       "      <th>gender_id</th>\n",
       "      <th>job_id</th>\n",
       "      <th>age</th>\n",
       "      <th>city_pop_round</th>\n",
       "      <th>merchant_id</th>\n",
       "      <th>merchant_category</th>\n",
       "      <th>job_category</th>\n",
       "    </tr>\n",
       "  </thead>\n",
       "  <tbody>\n",
       "    <tr>\n",
       "      <th>721095</th>\n",
       "      <td>0</td>\n",
       "      <td>175.82</td>\n",
       "      <td>135.3814</td>\n",
       "      <td>1351985190</td>\n",
       "      <td>26090790</td>\n",
       "      <td>3</td>\n",
       "      <td>3</td>\n",
       "      <td>0</td>\n",
       "      <td>8</td>\n",
       "      <td>28</td>\n",
       "      <td>5</td>\n",
       "      <td>6</td>\n",
       "      <td>shopping_pos</td>\n",
       "      <td>Statistician</td>\n",
       "    </tr>\n",
       "    <tr>\n",
       "      <th>171532</th>\n",
       "      <td>0</td>\n",
       "      <td>29.87</td>\n",
       "      <td>22.7012</td>\n",
       "      <td>1333198865</td>\n",
       "      <td>7304465</td>\n",
       "      <td>1</td>\n",
       "      <td>5</td>\n",
       "      <td>1</td>\n",
       "      <td>2</td>\n",
       "      <td>25</td>\n",
       "      <td>31</td>\n",
       "      <td>0</td>\n",
       "      <td>food_dining</td>\n",
       "      <td>Drilling engineer</td>\n",
       "    </tr>\n",
       "    <tr>\n",
       "      <th>28936</th>\n",
       "      <td>0</td>\n",
       "      <td>76.66</td>\n",
       "      <td>59.0282</td>\n",
       "      <td>1326845546</td>\n",
       "      <td>1037546</td>\n",
       "      <td>4</td>\n",
       "      <td>0</td>\n",
       "      <td>1</td>\n",
       "      <td>4</td>\n",
       "      <td>53</td>\n",
       "      <td>1</td>\n",
       "      <td>3</td>\n",
       "      <td>gas_transport</td>\n",
       "      <td>Insurance risk surveyor</td>\n",
       "    </tr>\n",
       "    <tr>\n",
       "      <th>568509</th>\n",
       "      <td>0</td>\n",
       "      <td>73.20</td>\n",
       "      <td>60.0240</td>\n",
       "      <td>1346302249</td>\n",
       "      <td>20407849</td>\n",
       "      <td>5</td>\n",
       "      <td>8</td>\n",
       "      <td>1</td>\n",
       "      <td>6</td>\n",
       "      <td>35</td>\n",
       "      <td>7</td>\n",
       "      <td>8</td>\n",
       "      <td>gas_transport</td>\n",
       "      <td>Paramedic</td>\n",
       "    </tr>\n",
       "    <tr>\n",
       "      <th>538936</th>\n",
       "      <td>0</td>\n",
       "      <td>2.16</td>\n",
       "      <td>1.7712</td>\n",
       "      <td>1345350678</td>\n",
       "      <td>19456278</td>\n",
       "      <td>6</td>\n",
       "      <td>2</td>\n",
       "      <td>0</td>\n",
       "      <td>5</td>\n",
       "      <td>53</td>\n",
       "      <td>1</td>\n",
       "      <td>1</td>\n",
       "      <td>shopping_net</td>\n",
       "      <td>Insurance underwriter</td>\n",
       "    </tr>\n",
       "  </tbody>\n",
       "</table>\n",
       "</div>"
      ],
      "text/plain": [
       "        is_fraud  amount_USD  amount_GBP   unix_time  seconds_from_start  \\\n",
       "721095         0      175.82    135.3814  1351985190            26090790   \n",
       "171532         0       29.87     22.7012  1333198865             7304465   \n",
       "28936          0       76.66     59.0282  1326845546             1037546   \n",
       "568509         0       73.20     60.0240  1346302249            20407849   \n",
       "538936         0        2.16      1.7712  1345350678            19456278   \n",
       "\n",
       "        cc_id  person_id  gender_id  job_id  age  city_pop_round  merchant_id  \\\n",
       "721095      3          3          0       8   28               5            6   \n",
       "171532      1          5          1       2   25              31            0   \n",
       "28936       4          0          1       4   53               1            3   \n",
       "568509      5          8          1       6   35               7            8   \n",
       "538936      6          2          0       5   53               1            1   \n",
       "\n",
       "       merchant_category             job_category  \n",
       "721095      shopping_pos             Statistician  \n",
       "171532       food_dining        Drilling engineer  \n",
       "28936      gas_transport  Insurance risk surveyor  \n",
       "568509     gas_transport                Paramedic  \n",
       "538936      shopping_net    Insurance underwriter  "
      ]
     },
     "execution_count": 31,
     "metadata": {},
     "output_type": "execute_result"
    }
   ],
   "source": [
    "clean_df.head(5)"
   ]
  },
  {
   "cell_type": "markdown",
   "metadata": {},
   "source": [
    "## Merchant Details\n",
    " * `merchant`\n",
    " * `category`\n",
    " * Location (`merch_lat`,`merch_long`)\n",
    "   * *Owen is working on this as we want to maintain relationships between locations*. (See [below](#Location-Details))"
   ]
  },
  {
   "cell_type": "markdown",
   "metadata": {},
   "source": [
    "`merchant` is the name of the merchant and should be anonymised. This is done by simple converting it into an id."
   ]
  },
  {
   "cell_type": "code",
   "execution_count": 25,
   "metadata": {},
   "outputs": [],
   "source": [
    "clean_df[\"merchant_id\"]=anonymise(sample_df[\"merchant\"])"
   ]
  },
  {
   "cell_type": "markdown",
   "metadata": {},
   "source": [
    "`category` is the verbose category of the merchant. This does not necessarily need to be anonymised as it is not identifiable, but some pre-processing should be performed in order to reduce the degrees of freedom of the model."
   ]
  },
  {
   "cell_type": "code",
   "execution_count": 26,
   "metadata": {},
   "outputs": [],
   "source": [
    "clean_df[\"merchant_category\"]=sample_df[\"category\"]"
   ]
  },
  {
   "cell_type": "code",
   "execution_count": 27,
   "metadata": {},
   "outputs": [
    {
     "data": {
      "text/html": [
       "<div>\n",
       "<style scoped>\n",
       "    .dataframe tbody tr th:only-of-type {\n",
       "        vertical-align: middle;\n",
       "    }\n",
       "\n",
       "    .dataframe tbody tr th {\n",
       "        vertical-align: top;\n",
       "    }\n",
       "\n",
       "    .dataframe thead th {\n",
       "        text-align: right;\n",
       "    }\n",
       "</style>\n",
       "<table border=\"1\" class=\"dataframe\">\n",
       "  <thead>\n",
       "    <tr style=\"text-align: right;\">\n",
       "      <th></th>\n",
       "      <th>is_fraud</th>\n",
       "      <th>amount_USD</th>\n",
       "      <th>amount_GBP</th>\n",
       "      <th>unix_time</th>\n",
       "      <th>seconds_from_start</th>\n",
       "      <th>cc_id</th>\n",
       "      <th>person_id</th>\n",
       "      <th>gender_id</th>\n",
       "      <th>job_id</th>\n",
       "      <th>age</th>\n",
       "      <th>city_pop_round</th>\n",
       "      <th>merchant_id</th>\n",
       "      <th>merchant_category</th>\n",
       "    </tr>\n",
       "  </thead>\n",
       "  <tbody>\n",
       "    <tr>\n",
       "      <th>721095</th>\n",
       "      <td>0</td>\n",
       "      <td>175.82</td>\n",
       "      <td>135.3814</td>\n",
       "      <td>1351985190</td>\n",
       "      <td>26090790</td>\n",
       "      <td>3</td>\n",
       "      <td>3</td>\n",
       "      <td>0</td>\n",
       "      <td>8</td>\n",
       "      <td>28</td>\n",
       "      <td>5</td>\n",
       "      <td>6</td>\n",
       "      <td>shopping_pos</td>\n",
       "    </tr>\n",
       "    <tr>\n",
       "      <th>171532</th>\n",
       "      <td>0</td>\n",
       "      <td>29.87</td>\n",
       "      <td>22.7012</td>\n",
       "      <td>1333198865</td>\n",
       "      <td>7304465</td>\n",
       "      <td>1</td>\n",
       "      <td>5</td>\n",
       "      <td>1</td>\n",
       "      <td>2</td>\n",
       "      <td>25</td>\n",
       "      <td>31</td>\n",
       "      <td>0</td>\n",
       "      <td>food_dining</td>\n",
       "    </tr>\n",
       "    <tr>\n",
       "      <th>28936</th>\n",
       "      <td>0</td>\n",
       "      <td>76.66</td>\n",
       "      <td>59.0282</td>\n",
       "      <td>1326845546</td>\n",
       "      <td>1037546</td>\n",
       "      <td>4</td>\n",
       "      <td>0</td>\n",
       "      <td>1</td>\n",
       "      <td>4</td>\n",
       "      <td>53</td>\n",
       "      <td>1</td>\n",
       "      <td>3</td>\n",
       "      <td>gas_transport</td>\n",
       "    </tr>\n",
       "    <tr>\n",
       "      <th>568509</th>\n",
       "      <td>0</td>\n",
       "      <td>73.20</td>\n",
       "      <td>60.0240</td>\n",
       "      <td>1346302249</td>\n",
       "      <td>20407849</td>\n",
       "      <td>5</td>\n",
       "      <td>8</td>\n",
       "      <td>1</td>\n",
       "      <td>6</td>\n",
       "      <td>35</td>\n",
       "      <td>7</td>\n",
       "      <td>8</td>\n",
       "      <td>gas_transport</td>\n",
       "    </tr>\n",
       "    <tr>\n",
       "      <th>538936</th>\n",
       "      <td>0</td>\n",
       "      <td>2.16</td>\n",
       "      <td>1.7712</td>\n",
       "      <td>1345350678</td>\n",
       "      <td>19456278</td>\n",
       "      <td>6</td>\n",
       "      <td>2</td>\n",
       "      <td>0</td>\n",
       "      <td>5</td>\n",
       "      <td>53</td>\n",
       "      <td>1</td>\n",
       "      <td>1</td>\n",
       "      <td>shopping_net</td>\n",
       "    </tr>\n",
       "  </tbody>\n",
       "</table>\n",
       "</div>"
      ],
      "text/plain": [
       "        is_fraud  amount_USD  amount_GBP   unix_time  seconds_from_start  \\\n",
       "721095         0      175.82    135.3814  1351985190            26090790   \n",
       "171532         0       29.87     22.7012  1333198865             7304465   \n",
       "28936          0       76.66     59.0282  1326845546             1037546   \n",
       "568509         0       73.20     60.0240  1346302249            20407849   \n",
       "538936         0        2.16      1.7712  1345350678            19456278   \n",
       "\n",
       "        cc_id  person_id  gender_id  job_id  age  city_pop_round  merchant_id  \\\n",
       "721095      3          3          0       8   28               5            6   \n",
       "171532      1          5          1       2   25              31            0   \n",
       "28936       4          0          1       4   53               1            3   \n",
       "568509      5          8          1       6   35               7            8   \n",
       "538936      6          2          0       5   53               1            1   \n",
       "\n",
       "       merchant_category  \n",
       "721095      shopping_pos  \n",
       "171532       food_dining  \n",
       "28936      gas_transport  \n",
       "568509     gas_transport  \n",
       "538936      shopping_net  "
      ]
     },
     "execution_count": 27,
     "metadata": {},
     "output_type": "execute_result"
    }
   ],
   "source": [
    "clean_df.head(5)"
   ]
  },
  {
   "cell_type": "markdown",
   "metadata": {},
   "source": [
    "## Location Details\n",
    "\n",
    "There is location data for customers (`street`, `city`, `state`, `zip`, `lat`, `long`) and for merchants (`merch_lat`,`merch_long`).\n",
    "\n",
    "*Owen is looking at this*"
   ]
  },
  {
   "cell_type": "markdown",
   "metadata": {},
   "source": [
    "## Save File"
   ]
  },
  {
   "cell_type": "code",
   "execution_count": 28,
   "metadata": {},
   "outputs": [],
   "source": [
    "def save_data(df:pd.DataFrame,file_path):\n",
    "    df.to_csv(file_path)"
   ]
  },
  {
   "cell_type": "code",
   "execution_count": 29,
   "metadata": {},
   "outputs": [],
   "source": [
    "# save_data(\"\",\"data/prepared_syntheticg_data.csv\")"
   ]
  }
 ],
 "metadata": {
  "kernelspec": {
   "display_name": "Python 3",
   "language": "python",
   "name": "python3"
  },
  "language_info": {
   "codemirror_mode": {
    "name": "ipython",
    "version": 3
   },
   "file_extension": ".py",
   "mimetype": "text/x-python",
   "name": "python",
   "nbconvert_exporter": "python",
   "pygments_lexer": "ipython3",
   "version": "3.7.9"
  }
 },
 "nbformat": 4,
 "nbformat_minor": 4
}
