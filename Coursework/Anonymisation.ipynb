{
 "cells": [
  {
   "cell_type": "code",
   "execution_count": 1,
   "metadata": {},
   "outputs": [],
   "source": [
    "from datetime import datetime\n",
    "import numpy as np\n",
    "import pandas as pd\n",
    "pd.set_option('display.max_columns', 500)"
   ]
  },
  {
   "cell_type": "markdown",
   "metadata": {},
   "source": [
    "# Anonymisation\n",
    "\n",
    "Here I anonymise the synethic data from our model.\n",
    "\n",
    "\n",
    "## TOC\n",
    " * [Preliminary](#Preliminary)\n",
    " * [Transaction Details](#Transaction-Details)\n",
    "   * [Amount](#Amount)\n",
    "   * [Time](#Time)\n",
    " * [Customer Details](#Customer-Details)\n",
    "   * [Credit Card Number](#Credit-Card-Number)\n",
    "   * [Person Details](#Person-Details)\n",
    "   * [Other](#Other)\n",
    " * [Merchant Details](#Merchant-Details)\n",
    " * [Location Details](#Location-Details)"
   ]
  },
  {
   "cell_type": "code",
   "execution_count": 2,
   "metadata": {},
   "outputs": [
    {
     "name": "stderr",
     "output_type": "stream",
     "text": [
      "c:\\users\\domah\\appdata\\local\\programs\\python\\python37\\lib\\site-packages\\numpy\\lib\\arraysetops.py:580: FutureWarning: elementwise comparison failed; returning scalar instead, but in the future will perform elementwise comparison\n",
      "  mask |= (ar1 == a)\n"
     ]
    }
   ],
   "source": [
    "# Load the data\n",
    "training_data=pd.read_csv(\"data/synthetic_train.csv\",index_col=0)\n",
    "test_data=pd.read_csv(\"data/synthetic_train.csv\",index_col=0)\n",
    "full_data=pd.concat([training_data, test_data])\n",
    "\n",
    "sample_df=full_data.sample(n=10)"
   ]
  },
  {
   "cell_type": "code",
   "execution_count": 3,
   "metadata": {},
   "outputs": [
    {
     "name": "stdout",
     "output_type": "stream",
     "text": [
      "(2593350, 22)\n"
     ]
    },
    {
     "data": {
      "text/plain": [
       "trans_date_trans_time     object\n",
       "cc_num                     int64\n",
       "merchant                  object\n",
       "category                  object\n",
       "amt                      float64\n",
       "first                     object\n",
       "last                      object\n",
       "gender                    object\n",
       "street                    object\n",
       "city                      object\n",
       "state                     object\n",
       "zip                        int64\n",
       "lat                      float64\n",
       "long                     float64\n",
       "city_pop                   int64\n",
       "job                       object\n",
       "dob                       object\n",
       "trans_num                 object\n",
       "unix_time                  int64\n",
       "merch_lat                float64\n",
       "merch_long               float64\n",
       "is_fraud                   int64\n",
       "dtype: object"
      ]
     },
     "execution_count": 3,
     "metadata": {},
     "output_type": "execute_result"
    }
   ],
   "source": [
    "print(full_data.shape)\n",
    "full_data.dtypes"
   ]
  },
  {
   "cell_type": "code",
   "execution_count": 4,
   "metadata": {},
   "outputs": [
    {
     "data": {
      "text/html": [
       "<div>\n",
       "<style scoped>\n",
       "    .dataframe tbody tr th:only-of-type {\n",
       "        vertical-align: middle;\n",
       "    }\n",
       "\n",
       "    .dataframe tbody tr th {\n",
       "        vertical-align: top;\n",
       "    }\n",
       "\n",
       "    .dataframe thead th {\n",
       "        text-align: right;\n",
       "    }\n",
       "</style>\n",
       "<table border=\"1\" class=\"dataframe\">\n",
       "  <thead>\n",
       "    <tr style=\"text-align: right;\">\n",
       "      <th></th>\n",
       "      <th>trans_date_trans_time</th>\n",
       "      <th>cc_num</th>\n",
       "      <th>merchant</th>\n",
       "      <th>category</th>\n",
       "      <th>amt</th>\n",
       "      <th>first</th>\n",
       "      <th>last</th>\n",
       "      <th>gender</th>\n",
       "      <th>street</th>\n",
       "      <th>city</th>\n",
       "      <th>state</th>\n",
       "      <th>zip</th>\n",
       "      <th>lat</th>\n",
       "      <th>long</th>\n",
       "      <th>city_pop</th>\n",
       "      <th>job</th>\n",
       "      <th>dob</th>\n",
       "      <th>trans_num</th>\n",
       "      <th>unix_time</th>\n",
       "      <th>merch_lat</th>\n",
       "      <th>merch_long</th>\n",
       "      <th>is_fraud</th>\n",
       "    </tr>\n",
       "  </thead>\n",
       "  <tbody>\n",
       "    <tr>\n",
       "      <th>683415</th>\n",
       "      <td>2019-10-19 00:31:17</td>\n",
       "      <td>4561892980175</td>\n",
       "      <td>fraud_Hermiston, Russel and Price</td>\n",
       "      <td>food_dining</td>\n",
       "      <td>6.46</td>\n",
       "      <td>Jacqueline</td>\n",
       "      <td>Allen</td>\n",
       "      <td>F</td>\n",
       "      <td>166 Lisa Fords</td>\n",
       "      <td>Greenwood</td>\n",
       "      <td>IN</td>\n",
       "      <td>46143</td>\n",
       "      <td>39.5960</td>\n",
       "      <td>-86.1309</td>\n",
       "      <td>78968</td>\n",
       "      <td>Financial adviser</td>\n",
       "      <td>1968-02-10</td>\n",
       "      <td>f6b15277cfb43198703aa9c94ff7da76</td>\n",
       "      <td>1350606677</td>\n",
       "      <td>40.581341</td>\n",
       "      <td>-87.108239</td>\n",
       "      <td>0</td>\n",
       "    </tr>\n",
       "    <tr>\n",
       "      <th>5710</th>\n",
       "      <td>2019-01-04 17:12:25</td>\n",
       "      <td>30518206766474</td>\n",
       "      <td>fraud_Hahn, Bahringer and McLaughlin</td>\n",
       "      <td>personal_care</td>\n",
       "      <td>8.00</td>\n",
       "      <td>Tamara</td>\n",
       "      <td>Martinez</td>\n",
       "      <td>F</td>\n",
       "      <td>471 Marquez Prairie Suite 680</td>\n",
       "      <td>Matthews</td>\n",
       "      <td>MO</td>\n",
       "      <td>63867</td>\n",
       "      <td>36.7154</td>\n",
       "      <td>-89.6287</td>\n",
       "      <td>1019</td>\n",
       "      <td>Aeronautical engineer</td>\n",
       "      <td>1979-01-26</td>\n",
       "      <td>e2e5715174b4978b6dc3d78aa9c80b27</td>\n",
       "      <td>1325697145</td>\n",
       "      <td>36.980240</td>\n",
       "      <td>-89.069913</td>\n",
       "      <td>0</td>\n",
       "    </tr>\n",
       "    <tr>\n",
       "      <th>716370</th>\n",
       "      <td>2019-11-02 12:57:40</td>\n",
       "      <td>2296006538441789</td>\n",
       "      <td>fraud_Zulauf LLC</td>\n",
       "      <td>personal_care</td>\n",
       "      <td>9.50</td>\n",
       "      <td>Judy</td>\n",
       "      <td>Hogan</td>\n",
       "      <td>F</td>\n",
       "      <td>4970 Michelle Burgs</td>\n",
       "      <td>Brooklyn</td>\n",
       "      <td>NY</td>\n",
       "      <td>11217</td>\n",
       "      <td>40.6816</td>\n",
       "      <td>-73.9798</td>\n",
       "      <td>2504700</td>\n",
       "      <td>Medical sales representative</td>\n",
       "      <td>1999-09-01</td>\n",
       "      <td>0ef24ccc2a5a24348f1036699560cfd9</td>\n",
       "      <td>1351861060</td>\n",
       "      <td>41.359175</td>\n",
       "      <td>-74.549937</td>\n",
       "      <td>0</td>\n",
       "    </tr>\n",
       "    <tr>\n",
       "      <th>681614</th>\n",
       "      <td>2019-10-18 01:54:34</td>\n",
       "      <td>213112402583773</td>\n",
       "      <td>fraud_Koepp-Witting</td>\n",
       "      <td>grocery_pos</td>\n",
       "      <td>80.03</td>\n",
       "      <td>Ana</td>\n",
       "      <td>Howell</td>\n",
       "      <td>F</td>\n",
       "      <td>4664 Sanchez Common Suite 930</td>\n",
       "      <td>Bradley</td>\n",
       "      <td>SC</td>\n",
       "      <td>29819</td>\n",
       "      <td>34.0326</td>\n",
       "      <td>-82.2027</td>\n",
       "      <td>1523</td>\n",
       "      <td>Research scientist (physical sciences)</td>\n",
       "      <td>1984-06-03</td>\n",
       "      <td>4a3ddfa9f69e5c8081f2c21d8a7e8d6e</td>\n",
       "      <td>1350525274</td>\n",
       "      <td>33.036601</td>\n",
       "      <td>-83.139192</td>\n",
       "      <td>0</td>\n",
       "    </tr>\n",
       "    <tr>\n",
       "      <th>395705</th>\n",
       "      <td>2019-06-29 22:21:01</td>\n",
       "      <td>6539653032686894</td>\n",
       "      <td>fraud_Dietrich-Fadel</td>\n",
       "      <td>health_fitness</td>\n",
       "      <td>189.57</td>\n",
       "      <td>Samuel</td>\n",
       "      <td>Short</td>\n",
       "      <td>M</td>\n",
       "      <td>23383 Denise Pine Apt. 099</td>\n",
       "      <td>Sacramento</td>\n",
       "      <td>CA</td>\n",
       "      <td>95842</td>\n",
       "      <td>38.6865</td>\n",
       "      <td>-121.3494</td>\n",
       "      <td>757530</td>\n",
       "      <td>Soil scientist</td>\n",
       "      <td>1966-09-19</td>\n",
       "      <td>da374b22c8ecdc5eebe1f8e12f9545f2</td>\n",
       "      <td>1341008461</td>\n",
       "      <td>37.947820</td>\n",
       "      <td>-122.294495</td>\n",
       "      <td>0</td>\n",
       "    </tr>\n",
       "    <tr>\n",
       "      <th>1033859</th>\n",
       "      <td>2020-03-04 02:14:28</td>\n",
       "      <td>345389171551808</td>\n",
       "      <td>fraud_Emmerich-Luettgen</td>\n",
       "      <td>grocery_net</td>\n",
       "      <td>50.33</td>\n",
       "      <td>Justin</td>\n",
       "      <td>Fowler</td>\n",
       "      <td>M</td>\n",
       "      <td>5569 Phillips Neck Apt. 003</td>\n",
       "      <td>Coffeeville</td>\n",
       "      <td>MS</td>\n",
       "      <td>38922</td>\n",
       "      <td>33.9215</td>\n",
       "      <td>-89.6782</td>\n",
       "      <td>3451</td>\n",
       "      <td>Financial trader</td>\n",
       "      <td>1984-05-19</td>\n",
       "      <td>39831f85af13f73f9a600a4d3d7d1108</td>\n",
       "      <td>1362363268</td>\n",
       "      <td>33.621432</td>\n",
       "      <td>-89.457708</td>\n",
       "      <td>0</td>\n",
       "    </tr>\n",
       "    <tr>\n",
       "      <th>872613</th>\n",
       "      <td>2019-12-20 22:26:35</td>\n",
       "      <td>374125201044065</td>\n",
       "      <td>fraud_Fadel Inc</td>\n",
       "      <td>health_fitness</td>\n",
       "      <td>87.55</td>\n",
       "      <td>Christopher</td>\n",
       "      <td>Gilbert</td>\n",
       "      <td>M</td>\n",
       "      <td>20937 Reed Lakes Apt. 271</td>\n",
       "      <td>Washington</td>\n",
       "      <td>DC</td>\n",
       "      <td>20012</td>\n",
       "      <td>38.9757</td>\n",
       "      <td>-77.0282</td>\n",
       "      <td>601723</td>\n",
       "      <td>Optician, dispensing</td>\n",
       "      <td>1970-07-20</td>\n",
       "      <td>6fbde8ab60f52dc70565518d1c7ec42f</td>\n",
       "      <td>1356042395</td>\n",
       "      <td>38.675350</td>\n",
       "      <td>-76.719537</td>\n",
       "      <td>0</td>\n",
       "    </tr>\n",
       "    <tr>\n",
       "      <th>919168</th>\n",
       "      <td>2019-12-30 14:43:00</td>\n",
       "      <td>4671727014157745</td>\n",
       "      <td>fraud_O'Reilly, Mohr and Purdy</td>\n",
       "      <td>home</td>\n",
       "      <td>44.15</td>\n",
       "      <td>Kenneth</td>\n",
       "      <td>Edwards</td>\n",
       "      <td>M</td>\n",
       "      <td>3653 Ryan Crossroad</td>\n",
       "      <td>Andrews</td>\n",
       "      <td>IN</td>\n",
       "      <td>46702</td>\n",
       "      <td>40.8618</td>\n",
       "      <td>-85.6067</td>\n",
       "      <td>2304</td>\n",
       "      <td>Retail banker</td>\n",
       "      <td>1955-07-25</td>\n",
       "      <td>5ebce043f0a8a165160e7974313210e2</td>\n",
       "      <td>1356878580</td>\n",
       "      <td>41.252948</td>\n",
       "      <td>-85.262964</td>\n",
       "      <td>0</td>\n",
       "    </tr>\n",
       "    <tr>\n",
       "      <th>523329</th>\n",
       "      <td>2019-08-13 13:44:41</td>\n",
       "      <td>4464457352619</td>\n",
       "      <td>fraud_Yost, Schamberger and Windler</td>\n",
       "      <td>kids_pets</td>\n",
       "      <td>8.31</td>\n",
       "      <td>Breanna</td>\n",
       "      <td>Rodriguez</td>\n",
       "      <td>F</td>\n",
       "      <td>118 Cabrera Springs Apt. 105</td>\n",
       "      <td>Lanark Village</td>\n",
       "      <td>FL</td>\n",
       "      <td>32323</td>\n",
       "      <td>29.8826</td>\n",
       "      <td>-84.5964</td>\n",
       "      <td>217</td>\n",
       "      <td>Television production assistant</td>\n",
       "      <td>1990-01-24</td>\n",
       "      <td>d9337f9b69265c1ab36bb48fbdd25073</td>\n",
       "      <td>1344865481</td>\n",
       "      <td>29.404878</td>\n",
       "      <td>-83.942956</td>\n",
       "      <td>0</td>\n",
       "    </tr>\n",
       "    <tr>\n",
       "      <th>345465</th>\n",
       "      <td>2019-06-11 12:05:45</td>\n",
       "      <td>4334230547694630</td>\n",
       "      <td>fraud_Durgan, Gislason and Spencer</td>\n",
       "      <td>home</td>\n",
       "      <td>288.37</td>\n",
       "      <td>Scott</td>\n",
       "      <td>Martin</td>\n",
       "      <td>M</td>\n",
       "      <td>7483 Navarro Flats</td>\n",
       "      <td>Freedom</td>\n",
       "      <td>WY</td>\n",
       "      <td>83120</td>\n",
       "      <td>43.0172</td>\n",
       "      <td>-111.0292</td>\n",
       "      <td>471</td>\n",
       "      <td>Education officer, museum</td>\n",
       "      <td>1967-08-02</td>\n",
       "      <td>c33d84c9e2eb8f6d7eac6b901111c8eb</td>\n",
       "      <td>1339416345</td>\n",
       "      <td>43.290325</td>\n",
       "      <td>-110.841566</td>\n",
       "      <td>0</td>\n",
       "    </tr>\n",
       "  </tbody>\n",
       "</table>\n",
       "</div>"
      ],
      "text/plain": [
       "        trans_date_trans_time            cc_num  \\\n",
       "683415    2019-10-19 00:31:17     4561892980175   \n",
       "5710      2019-01-04 17:12:25    30518206766474   \n",
       "716370    2019-11-02 12:57:40  2296006538441789   \n",
       "681614    2019-10-18 01:54:34   213112402583773   \n",
       "395705    2019-06-29 22:21:01  6539653032686894   \n",
       "1033859   2020-03-04 02:14:28   345389171551808   \n",
       "872613    2019-12-20 22:26:35   374125201044065   \n",
       "919168    2019-12-30 14:43:00  4671727014157745   \n",
       "523329    2019-08-13 13:44:41     4464457352619   \n",
       "345465    2019-06-11 12:05:45  4334230547694630   \n",
       "\n",
       "                                     merchant        category     amt  \\\n",
       "683415      fraud_Hermiston, Russel and Price     food_dining    6.46   \n",
       "5710     fraud_Hahn, Bahringer and McLaughlin   personal_care    8.00   \n",
       "716370                       fraud_Zulauf LLC   personal_care    9.50   \n",
       "681614                    fraud_Koepp-Witting     grocery_pos   80.03   \n",
       "395705                   fraud_Dietrich-Fadel  health_fitness  189.57   \n",
       "1033859               fraud_Emmerich-Luettgen     grocery_net   50.33   \n",
       "872613                        fraud_Fadel Inc  health_fitness   87.55   \n",
       "919168         fraud_O'Reilly, Mohr and Purdy            home   44.15   \n",
       "523329    fraud_Yost, Schamberger and Windler       kids_pets    8.31   \n",
       "345465     fraud_Durgan, Gislason and Spencer            home  288.37   \n",
       "\n",
       "               first       last gender                         street  \\\n",
       "683415    Jacqueline      Allen      F                 166 Lisa Fords   \n",
       "5710          Tamara   Martinez      F  471 Marquez Prairie Suite 680   \n",
       "716370          Judy      Hogan      F            4970 Michelle Burgs   \n",
       "681614           Ana     Howell      F  4664 Sanchez Common Suite 930   \n",
       "395705        Samuel      Short      M     23383 Denise Pine Apt. 099   \n",
       "1033859       Justin     Fowler      M    5569 Phillips Neck Apt. 003   \n",
       "872613   Christopher    Gilbert      M      20937 Reed Lakes Apt. 271   \n",
       "919168       Kenneth    Edwards      M            3653 Ryan Crossroad   \n",
       "523329       Breanna  Rodriguez      F   118 Cabrera Springs Apt. 105   \n",
       "345465         Scott     Martin      M             7483 Navarro Flats   \n",
       "\n",
       "                   city state    zip      lat      long  city_pop  \\\n",
       "683415        Greenwood    IN  46143  39.5960  -86.1309     78968   \n",
       "5710           Matthews    MO  63867  36.7154  -89.6287      1019   \n",
       "716370         Brooklyn    NY  11217  40.6816  -73.9798   2504700   \n",
       "681614          Bradley    SC  29819  34.0326  -82.2027      1523   \n",
       "395705       Sacramento    CA  95842  38.6865 -121.3494    757530   \n",
       "1033859     Coffeeville    MS  38922  33.9215  -89.6782      3451   \n",
       "872613       Washington    DC  20012  38.9757  -77.0282    601723   \n",
       "919168          Andrews    IN  46702  40.8618  -85.6067      2304   \n",
       "523329   Lanark Village    FL  32323  29.8826  -84.5964       217   \n",
       "345465          Freedom    WY  83120  43.0172 -111.0292       471   \n",
       "\n",
       "                                            job         dob  \\\n",
       "683415                        Financial adviser  1968-02-10   \n",
       "5710                      Aeronautical engineer  1979-01-26   \n",
       "716370             Medical sales representative  1999-09-01   \n",
       "681614   Research scientist (physical sciences)  1984-06-03   \n",
       "395705                           Soil scientist  1966-09-19   \n",
       "1033859                        Financial trader  1984-05-19   \n",
       "872613                     Optician, dispensing  1970-07-20   \n",
       "919168                            Retail banker  1955-07-25   \n",
       "523329          Television production assistant  1990-01-24   \n",
       "345465                Education officer, museum  1967-08-02   \n",
       "\n",
       "                                trans_num   unix_time  merch_lat  merch_long  \\\n",
       "683415   f6b15277cfb43198703aa9c94ff7da76  1350606677  40.581341  -87.108239   \n",
       "5710     e2e5715174b4978b6dc3d78aa9c80b27  1325697145  36.980240  -89.069913   \n",
       "716370   0ef24ccc2a5a24348f1036699560cfd9  1351861060  41.359175  -74.549937   \n",
       "681614   4a3ddfa9f69e5c8081f2c21d8a7e8d6e  1350525274  33.036601  -83.139192   \n",
       "395705   da374b22c8ecdc5eebe1f8e12f9545f2  1341008461  37.947820 -122.294495   \n",
       "1033859  39831f85af13f73f9a600a4d3d7d1108  1362363268  33.621432  -89.457708   \n",
       "872613   6fbde8ab60f52dc70565518d1c7ec42f  1356042395  38.675350  -76.719537   \n",
       "919168   5ebce043f0a8a165160e7974313210e2  1356878580  41.252948  -85.262964   \n",
       "523329   d9337f9b69265c1ab36bb48fbdd25073  1344865481  29.404878  -83.942956   \n",
       "345465   c33d84c9e2eb8f6d7eac6b901111c8eb  1339416345  43.290325 -110.841566   \n",
       "\n",
       "         is_fraud  \n",
       "683415          0  \n",
       "5710            0  \n",
       "716370          0  \n",
       "681614          0  \n",
       "395705          0  \n",
       "1033859         0  \n",
       "872613          0  \n",
       "919168          0  \n",
       "523329          0  \n",
       "345465          0  "
      ]
     },
     "execution_count": 4,
     "metadata": {},
     "output_type": "execute_result"
    }
   ],
   "source": [
    "# Sample of the data\n",
    "sample_df.head(n=10)"
   ]
  },
  {
   "cell_type": "markdown",
   "metadata": {},
   "source": [
    "## Preliminary"
   ]
  },
  {
   "cell_type": "markdown",
   "metadata": {},
   "source": [
    "Convert `trans_date_trans_time` and `dob` into `datetime` objects."
   ]
  },
  {
   "cell_type": "code",
   "execution_count": 5,
   "metadata": {},
   "outputs": [],
   "source": [
    "full_data[\"trans_date_trans_time\"]=pd.to_datetime(full_data[\"trans_date_trans_time\"],format=\"%Y-%m-%d %H:%M:%S\")\n",
    "full_data[\"dob\"]=pd.to_datetime(full_data[\"dob\"],format=\"%Y-%m-%d\")\n",
    "\n",
    "sample_df[\"trans_date_trans_time\"]=pd.to_datetime(sample_df[\"trans_date_trans_time\"],format=\"%Y-%m-%d %H:%M:%S\")\n",
    "sample_df[\"dob\"]=pd.to_datetime(sample_df[\"dob\"],format=\"%Y-%m-%d\")"
   ]
  },
  {
   "cell_type": "markdown",
   "metadata": {},
   "source": [
    "**Cleaned Data**\n",
    "\n",
    "I define the dataframe `clean_df` which will hold all the prepared data"
   ]
  },
  {
   "cell_type": "code",
   "execution_count": 6,
   "metadata": {},
   "outputs": [],
   "source": [
    "clean_df=pd.DataFrame()\n",
    "clean_df[\"is_fraud\"]=sample_df[\"is_fraud\"]"
   ]
  },
  {
   "cell_type": "markdown",
   "metadata": {},
   "source": [
    "## Transcation Details\n",
    " * `trans_date_trans_time`\n",
    " * `amt`\n",
    " * `trans_num`\n",
    " * `unix_time`\n",
    " * `is_fraud`\n",
    " \n",
    "Leave `is_fraud` untouched as it is the feature we will be fitting the model to."
   ]
  },
  {
   "cell_type": "markdown",
   "metadata": {},
   "source": [
    "## Amount"
   ]
  },
  {
   "cell_type": "code",
   "execution_count": 8,
   "metadata": {},
   "outputs": [],
   "source": [
    "clean_df[\"amt\"]=sample_df[\"amt\"].copy()"
   ]
  },
  {
   "cell_type": "markdown",
   "metadata": {},
   "source": [
    "## Time"
   ]
  },
  {
   "cell_type": "markdown",
   "metadata": {},
   "source": [
    "In the real data set time is given in seconds since the first transaction. I implement the function `standardise_time` which calculates the number of seconds between mid-night on the day of the first transaction and each transaction.\n",
    "\n",
    "The full-time columns (`trans_date_trans_time` and `unix_time`) are still useful as you can use them to determine the year, month, day etc. of the transaction and thus may want to consider how to incorporate these into feature selection. "
   ]
  },
  {
   "cell_type": "code",
   "execution_count": 9,
   "metadata": {},
   "outputs": [],
   "source": [
    "def standardise_time(series) -> pd.Series:\n",
    "    min_time=series.min().to_pydatetime()\n",
    "    min_day=min_time.replace(second=0,minute=0,hour=0)\n",
    "    return ((series-min_day).dt.total_seconds()).astype(int)"
   ]
  },
  {
   "cell_type": "code",
   "execution_count": 10,
   "metadata": {},
   "outputs": [],
   "source": [
    "clean_df[\"unix_time\"]=sample_df[\"unix_time\"].copy()"
   ]
  },
  {
   "cell_type": "markdown",
   "metadata": {},
   "source": [
    "## Customer Details\n",
    "\n",
    "**Account Details**\n",
    " * `cc_num`\n",
    " \n",
    "**Person Details**\n",
    " * `first`\n",
    " * `last`\n",
    " * `gender`\n",
    " * Address (`street`, `city`, `state`, `zip`, `lat`, `long`)\n",
    "  * *Owen is working on this as we want to maintain relationships between locations*. (See [below](#Location-Details))\n",
    " * `job`\n",
    " * `dob`\n",
    " \n",
    "**Other**\n",
    " * `city_pop`"
   ]
  },
  {
   "cell_type": "markdown",
   "metadata": {},
   "source": [
    "### Credit Card Number\n",
    "\n",
    "Anonymise credit card number"
   ]
  },
  {
   "cell_type": "code",
   "execution_count": 11,
   "metadata": {},
   "outputs": [],
   "source": [
    "def anonymise(series:pd.Series) -> pd.Series:\n",
    "    return series.astype(\"category\").cat.codes"
   ]
  },
  {
   "cell_type": "code",
   "execution_count": 12,
   "metadata": {},
   "outputs": [
    {
     "data": {
      "text/html": [
       "<div>\n",
       "<style scoped>\n",
       "    .dataframe tbody tr th:only-of-type {\n",
       "        vertical-align: middle;\n",
       "    }\n",
       "\n",
       "    .dataframe tbody tr th {\n",
       "        vertical-align: top;\n",
       "    }\n",
       "\n",
       "    .dataframe thead th {\n",
       "        text-align: right;\n",
       "    }\n",
       "</style>\n",
       "<table border=\"1\" class=\"dataframe\">\n",
       "  <thead>\n",
       "    <tr style=\"text-align: right;\">\n",
       "      <th></th>\n",
       "      <th>is_fraud</th>\n",
       "      <th>amt</th>\n",
       "      <th>unix_time</th>\n",
       "      <th>cc_id</th>\n",
       "    </tr>\n",
       "  </thead>\n",
       "  <tbody>\n",
       "    <tr>\n",
       "      <th>683415</th>\n",
       "      <td>0</td>\n",
       "      <td>6.46</td>\n",
       "      <td>1350606677</td>\n",
       "      <td>1</td>\n",
       "    </tr>\n",
       "  </tbody>\n",
       "</table>\n",
       "</div>"
      ],
      "text/plain": [
       "        is_fraud   amt   unix_time  cc_id\n",
       "683415         0  6.46  1350606677      1"
      ]
     },
     "execution_count": 12,
     "metadata": {},
     "output_type": "execute_result"
    }
   ],
   "source": [
    "clean_df[\"cc_id\"]=anonymise(sample_df[\"cc_num\"])\n",
    "clean_df.head(1)"
   ]
  },
  {
   "cell_type": "markdown",
   "metadata": {},
   "source": [
    "### Personal Details\n",
    "\n",
    "`first` and `last` contains the customers name, these need to be anonymised. I introduce the column `person_id` which contains a unique identifier for each person in the dataset (It is assumed each unique combination of `first`, `last`, `job` and `dob` is a unique person)."
   ]
  },
  {
   "cell_type": "code",
   "execution_count": 13,
   "metadata": {},
   "outputs": [],
   "source": [
    "clean_df[\"person_id\"]=anonymise(sample_df[\"first\"]+\"_\"+sample_df[\"last\"]+\"_\"+sample_df[\"job\"]+\"_\"+sample_df[\"dob\"].apply(lambda x: x.strftime('%Y-%m-%d')))"
   ]
  },
  {
   "cell_type": "markdown",
   "metadata": {},
   "source": [
    "Keeping `gender` seems reasonable as it may be useful in the model fit. May be worth further investigation into whether there are notable differences in fraud rates/patterns between the genders."
   ]
  },
  {
   "cell_type": "code",
   "execution_count": 14,
   "metadata": {},
   "outputs": [],
   "source": [
    "clean_df[\"gender_id\"]=anonymise(sample_df[\"gender\"])"
   ]
  },
  {
   "cell_type": "markdown",
   "metadata": {},
   "source": [
    "`job` could be useful for the model and does not necessarily need anonymising. I will leave it as is and likely try to group jobs during feature selection to reduce degrees of freedom."
   ]
  },
  {
   "cell_type": "code",
   "execution_count": 15,
   "metadata": {},
   "outputs": [],
   "source": [
    "clean_df[\"job_category\"]=sample_df[\"job\"]"
   ]
  },
  {
   "cell_type": "markdown",
   "metadata": {},
   "source": [
    "`dob` should be useful for the model, I am going to discretise this data into the age of the customer at the time of the transaction."
   ]
  },
  {
   "cell_type": "code",
   "execution_count": 16,
   "metadata": {},
   "outputs": [],
   "source": [
    "def dob_to_age(df) -> pd.Series:\n",
    "    return (df[\"trans_date_trans_time\"]-df[\"dob\"])//np.timedelta64(1,\"Y\")"
   ]
  },
  {
   "cell_type": "code",
   "execution_count": 17,
   "metadata": {},
   "outputs": [],
   "source": [
    "clean_df[\"age\"]=dob_to_age(sample_df[[\"dob\",\"trans_date_trans_time\"]])"
   ]
  },
  {
   "cell_type": "markdown",
   "metadata": {},
   "source": [
    "Intuitively it seems likely that `city_pop` may be useful in fitting the model, so we want to keep it. However, it could be used to identify the city the customer is from, due to the precise nature of this value, thus I round it up to the nearest 50.\n",
    "\n",
    "During feature selection, it is likely we would want to discretise/categorise `city_pop` values. This will introduce our prior knowledge and reduce the degrees of freedom which the model needs to consider."
   ]
  },
  {
   "cell_type": "code",
   "execution_count": 18,
   "metadata": {},
   "outputs": [],
   "source": [
    "clean_df[\"city_pop_round\"]=50*np.floor(sample_df[\"city_pop\"]/50).copy().astype(int)"
   ]
  },
  {
   "cell_type": "code",
   "execution_count": 19,
   "metadata": {},
   "outputs": [
    {
     "data": {
      "text/html": [
       "<div>\n",
       "<style scoped>\n",
       "    .dataframe tbody tr th:only-of-type {\n",
       "        vertical-align: middle;\n",
       "    }\n",
       "\n",
       "    .dataframe tbody tr th {\n",
       "        vertical-align: top;\n",
       "    }\n",
       "\n",
       "    .dataframe thead th {\n",
       "        text-align: right;\n",
       "    }\n",
       "</style>\n",
       "<table border=\"1\" class=\"dataframe\">\n",
       "  <thead>\n",
       "    <tr style=\"text-align: right;\">\n",
       "      <th></th>\n",
       "      <th>is_fraud</th>\n",
       "      <th>amt</th>\n",
       "      <th>unix_time</th>\n",
       "      <th>cc_id</th>\n",
       "      <th>person_id</th>\n",
       "      <th>gender_id</th>\n",
       "      <th>job_category</th>\n",
       "      <th>age</th>\n",
       "      <th>city_pop_round</th>\n",
       "    </tr>\n",
       "  </thead>\n",
       "  <tbody>\n",
       "    <tr>\n",
       "      <th>683415</th>\n",
       "      <td>0</td>\n",
       "      <td>6.46</td>\n",
       "      <td>1350606677</td>\n",
       "      <td>1</td>\n",
       "      <td>3</td>\n",
       "      <td>0</td>\n",
       "      <td>Financial adviser</td>\n",
       "      <td>51</td>\n",
       "      <td>78950</td>\n",
       "    </tr>\n",
       "    <tr>\n",
       "      <th>5710</th>\n",
       "      <td>0</td>\n",
       "      <td>8.00</td>\n",
       "      <td>1325697145</td>\n",
       "      <td>2</td>\n",
       "      <td>9</td>\n",
       "      <td>0</td>\n",
       "      <td>Aeronautical engineer</td>\n",
       "      <td>39</td>\n",
       "      <td>1000</td>\n",
       "    </tr>\n",
       "    <tr>\n",
       "      <th>716370</th>\n",
       "      <td>0</td>\n",
       "      <td>9.50</td>\n",
       "      <td>1351861060</td>\n",
       "      <td>6</td>\n",
       "      <td>4</td>\n",
       "      <td>0</td>\n",
       "      <td>Medical sales representative</td>\n",
       "      <td>20</td>\n",
       "      <td>2504700</td>\n",
       "    </tr>\n",
       "    <tr>\n",
       "      <th>681614</th>\n",
       "      <td>0</td>\n",
       "      <td>80.03</td>\n",
       "      <td>1350525274</td>\n",
       "      <td>3</td>\n",
       "      <td>0</td>\n",
       "      <td>0</td>\n",
       "      <td>Research scientist (physical sciences)</td>\n",
       "      <td>35</td>\n",
       "      <td>1500</td>\n",
       "    </tr>\n",
       "    <tr>\n",
       "      <th>395705</th>\n",
       "      <td>0</td>\n",
       "      <td>189.57</td>\n",
       "      <td>1341008461</td>\n",
       "      <td>9</td>\n",
       "      <td>7</td>\n",
       "      <td>1</td>\n",
       "      <td>Soil scientist</td>\n",
       "      <td>52</td>\n",
       "      <td>757500</td>\n",
       "    </tr>\n",
       "  </tbody>\n",
       "</table>\n",
       "</div>"
      ],
      "text/plain": [
       "        is_fraud     amt   unix_time  cc_id  person_id  gender_id  \\\n",
       "683415         0    6.46  1350606677      1          3          0   \n",
       "5710           0    8.00  1325697145      2          9          0   \n",
       "716370         0    9.50  1351861060      6          4          0   \n",
       "681614         0   80.03  1350525274      3          0          0   \n",
       "395705         0  189.57  1341008461      9          7          1   \n",
       "\n",
       "                                  job_category  age  city_pop_round  \n",
       "683415                       Financial adviser   51           78950  \n",
       "5710                     Aeronautical engineer   39            1000  \n",
       "716370            Medical sales representative   20         2504700  \n",
       "681614  Research scientist (physical sciences)   35            1500  \n",
       "395705                          Soil scientist   52          757500  "
      ]
     },
     "execution_count": 19,
     "metadata": {},
     "output_type": "execute_result"
    }
   ],
   "source": [
    "clean_df.head(5)"
   ]
  },
  {
   "cell_type": "markdown",
   "metadata": {},
   "source": [
    "## Merchant Details\n",
    " * `merchant`\n",
    " * `category`\n",
    " * Location (`merch_lat`,`merch_long`)\n",
    "   * *Owen is working on this as we want to maintain relationships between locations*. (See [below](#Location-Details))"
   ]
  },
  {
   "cell_type": "markdown",
   "metadata": {},
   "source": [
    "`merchant` is the name of the merchant and should be anonymised. This is done by simple converting it into an id."
   ]
  },
  {
   "cell_type": "code",
   "execution_count": 20,
   "metadata": {},
   "outputs": [],
   "source": [
    "clean_df[\"merchant_id\"]=anonymise(sample_df[\"merchant\"])"
   ]
  },
  {
   "cell_type": "markdown",
   "metadata": {},
   "source": [
    "`category` is the verbose category of the merchant. This does not necessarily need to be anonymised as it is not identifiable, but some pre-processing should be performed in order to reduce the degrees of freedom of the model."
   ]
  },
  {
   "cell_type": "code",
   "execution_count": 21,
   "metadata": {},
   "outputs": [],
   "source": [
    "clean_df[\"merchant_category\"]=sample_df[\"category\"]"
   ]
  },
  {
   "cell_type": "code",
   "execution_count": 22,
   "metadata": {},
   "outputs": [
    {
     "data": {
      "text/html": [
       "<div>\n",
       "<style scoped>\n",
       "    .dataframe tbody tr th:only-of-type {\n",
       "        vertical-align: middle;\n",
       "    }\n",
       "\n",
       "    .dataframe tbody tr th {\n",
       "        vertical-align: top;\n",
       "    }\n",
       "\n",
       "    .dataframe thead th {\n",
       "        text-align: right;\n",
       "    }\n",
       "</style>\n",
       "<table border=\"1\" class=\"dataframe\">\n",
       "  <thead>\n",
       "    <tr style=\"text-align: right;\">\n",
       "      <th></th>\n",
       "      <th>is_fraud</th>\n",
       "      <th>amt</th>\n",
       "      <th>unix_time</th>\n",
       "      <th>cc_id</th>\n",
       "      <th>person_id</th>\n",
       "      <th>gender_id</th>\n",
       "      <th>job_category</th>\n",
       "      <th>age</th>\n",
       "      <th>city_pop_round</th>\n",
       "      <th>merchant_id</th>\n",
       "      <th>merchant_category</th>\n",
       "    </tr>\n",
       "  </thead>\n",
       "  <tbody>\n",
       "    <tr>\n",
       "      <th>683415</th>\n",
       "      <td>0</td>\n",
       "      <td>6.46</td>\n",
       "      <td>1350606677</td>\n",
       "      <td>1</td>\n",
       "      <td>3</td>\n",
       "      <td>0</td>\n",
       "      <td>Financial adviser</td>\n",
       "      <td>51</td>\n",
       "      <td>78950</td>\n",
       "      <td>5</td>\n",
       "      <td>food_dining</td>\n",
       "    </tr>\n",
       "    <tr>\n",
       "      <th>5710</th>\n",
       "      <td>0</td>\n",
       "      <td>8.00</td>\n",
       "      <td>1325697145</td>\n",
       "      <td>2</td>\n",
       "      <td>9</td>\n",
       "      <td>0</td>\n",
       "      <td>Aeronautical engineer</td>\n",
       "      <td>39</td>\n",
       "      <td>1000</td>\n",
       "      <td>4</td>\n",
       "      <td>personal_care</td>\n",
       "    </tr>\n",
       "    <tr>\n",
       "      <th>716370</th>\n",
       "      <td>0</td>\n",
       "      <td>9.50</td>\n",
       "      <td>1351861060</td>\n",
       "      <td>6</td>\n",
       "      <td>4</td>\n",
       "      <td>0</td>\n",
       "      <td>Medical sales representative</td>\n",
       "      <td>20</td>\n",
       "      <td>2504700</td>\n",
       "      <td>9</td>\n",
       "      <td>personal_care</td>\n",
       "    </tr>\n",
       "    <tr>\n",
       "      <th>681614</th>\n",
       "      <td>0</td>\n",
       "      <td>80.03</td>\n",
       "      <td>1350525274</td>\n",
       "      <td>3</td>\n",
       "      <td>0</td>\n",
       "      <td>0</td>\n",
       "      <td>Research scientist (physical sciences)</td>\n",
       "      <td>35</td>\n",
       "      <td>1500</td>\n",
       "      <td>6</td>\n",
       "      <td>grocery_pos</td>\n",
       "    </tr>\n",
       "    <tr>\n",
       "      <th>395705</th>\n",
       "      <td>0</td>\n",
       "      <td>189.57</td>\n",
       "      <td>1341008461</td>\n",
       "      <td>9</td>\n",
       "      <td>7</td>\n",
       "      <td>1</td>\n",
       "      <td>Soil scientist</td>\n",
       "      <td>52</td>\n",
       "      <td>757500</td>\n",
       "      <td>0</td>\n",
       "      <td>health_fitness</td>\n",
       "    </tr>\n",
       "  </tbody>\n",
       "</table>\n",
       "</div>"
      ],
      "text/plain": [
       "        is_fraud     amt   unix_time  cc_id  person_id  gender_id  \\\n",
       "683415         0    6.46  1350606677      1          3          0   \n",
       "5710           0    8.00  1325697145      2          9          0   \n",
       "716370         0    9.50  1351861060      6          4          0   \n",
       "681614         0   80.03  1350525274      3          0          0   \n",
       "395705         0  189.57  1341008461      9          7          1   \n",
       "\n",
       "                                  job_category  age  city_pop_round  \\\n",
       "683415                       Financial adviser   51           78950   \n",
       "5710                     Aeronautical engineer   39            1000   \n",
       "716370            Medical sales representative   20         2504700   \n",
       "681614  Research scientist (physical sciences)   35            1500   \n",
       "395705                          Soil scientist   52          757500   \n",
       "\n",
       "        merchant_id merchant_category  \n",
       "683415            5       food_dining  \n",
       "5710              4     personal_care  \n",
       "716370            9     personal_care  \n",
       "681614            6       grocery_pos  \n",
       "395705            0    health_fitness  "
      ]
     },
     "execution_count": 22,
     "metadata": {},
     "output_type": "execute_result"
    }
   ],
   "source": [
    "clean_df.head(5)"
   ]
  },
  {
   "cell_type": "markdown",
   "metadata": {},
   "source": [
    "## Location Details\n",
    "\n",
    "There is location data for customers (`street`, `city`, `state`, `zip`, `lat`, `long`) and for merchants (`merch_lat`,`merch_long`).\n",
    "\n",
    "*Owen is looking at this*"
   ]
  },
  {
   "cell_type": "markdown",
   "metadata": {},
   "source": [
    "## Save File"
   ]
  },
  {
   "cell_type": "code",
   "execution_count": 23,
   "metadata": {},
   "outputs": [],
   "source": [
    "def save_data(df:pd.DataFrame,file_path):\n",
    "    df.to_csv(file_path)"
   ]
  },
  {
   "cell_type": "code",
   "execution_count": 24,
   "metadata": {},
   "outputs": [],
   "source": [
    "# save_data(\"\",\"data/prepared_syntheticg_data.csv\")"
   ]
  }
 ],
 "metadata": {
  "kernelspec": {
   "display_name": "Python 3",
   "language": "python",
   "name": "python3"
  },
  "language_info": {
   "codemirror_mode": {
    "name": "ipython",
    "version": 3
   },
   "file_extension": ".py",
   "mimetype": "text/x-python",
   "name": "python",
   "nbconvert_exporter": "python",
   "pygments_lexer": "ipython3",
   "version": "3.7.9"
  }
 },
 "nbformat": 4,
 "nbformat_minor": 4
}
